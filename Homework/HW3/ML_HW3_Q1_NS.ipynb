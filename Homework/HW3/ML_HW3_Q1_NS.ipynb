{
 "cells": [
  {
   "cell_type": "markdown",
   "metadata": {},
   "source": [
    "# Question 1"
   ]
  },
  {
   "cell_type": "markdown",
   "metadata": {},
   "source": [
    "## Handwritten Digit Classification with Logistic Regression"
   ]
  },
  {
   "cell_type": "markdown",
   "metadata": {},
   "source": [
    "### (a) "
   ]
  },
  {
   "cell_type": "markdown",
   "metadata": {},
   "source": [
    "Download the mnist49_3000.mat from Brightspace under HW3 folder.  This is a subset of the MNIST handwritten digit database, which is a well-known benchmark database for classi cation algorithms. This subset contains examples of the digits 4 and 9. The  data file contains variables x and y,  with  the  former  containing  patterns  and  the  latter  labels.   The images are stored as column vectors.  To visualize an image, in Python type:"
   ]
  },
  {
   "cell_type": "code",
   "execution_count": 1,
   "metadata": {},
   "outputs": [],
   "source": [
    "#Imports\n",
    "import numpy as np\n",
    "import scipy.io as sio\n",
    "import matplotlib.pyplot as plt\n",
    "from scipy.special import expit"
   ]
  },
  {
   "cell_type": "code",
   "execution_count": 2,
   "metadata": {},
   "outputs": [
    {
     "name": "stdout",
     "output_type": "stream",
     "text": [
      "(784, 3000) (1, 3000)\n",
      "(3000, 784) (3000,)\n"
     ]
    },
    {
     "data": {
      "image/png": "[encoded data removed]",
      "text/plain": [
       "<Figure size 432x288 with 1 Axes>"
      ]
     },
     "metadata": {
      "needs_background": "light"
     },
     "output_type": "display_data"
    }
   ],
   "source": [
    "mnist_49_3000 = sio.loadmat('mnist_49_3000.mat')\n",
    "x = mnist_49_3000['x']\n",
    "y = mnist_49_3000['y']\n",
    "d,n= x.shape\n",
    "\n",
    "#the shapes of the data are weird, so im flipping them so the samples are x and features are y\n",
    "print(x.shape, y.shape)\n",
    "x = np.transpose(x)\n",
    "y = y[0]\n",
    "print(x.shape, y.shape)\n",
    "\n",
    "i = 0 #Index of the image to be visualized\n",
    "plt.imshow(np.reshape(x[i,:], (int(np.sqrt(d)),int(np.sqrt(d)))))\n",
    "plt.show()"
   ]
  },
  {
   "cell_type": "code",
   "execution_count": 3,
   "metadata": {},
   "outputs": [
    {
     "name": "stdout",
     "output_type": "stream",
     "text": [
      "(2000, 784) (1000, 784) (2000,) (1000,)\n"
     ]
    }
   ],
   "source": [
    "#split into train and test data \n",
    "train_size = 2000\n",
    "x_train = x[:train_size, :]\n",
    "x_test = x[train_size:, :]\n",
    "y_train = y[:train_size]\n",
    "y_test = y[train_size:]\n",
    "\n",
    "print(x_train.shape, x_test.shape, y_train.shape, y_test.shape)"
   ]
  },
  {
   "cell_type": "code",
   "execution_count": 4,
   "metadata": {},
   "outputs": [
    {
     "name": "stdout",
     "output_type": "stream",
     "text": [
      "(2000, 785) (1000, 785)\n"
     ]
    }
   ],
   "source": [
    "#append our column of 1's for ~x\n",
    "def append_column_one(data):    \n",
    "    append_ones = np.ones((data.shape[0],1))\n",
    "    data = np.hstack((append_ones, data))\n",
    "    return data\n",
    "\n",
    "x_train = append_column_one(x_train)\n",
    "x_test = append_column_one(x_test)\n",
    "np.place(y_train, y_train == 0, -1)\n",
    "np.place(y_test, y_test == 0, -1)\n",
    "\n",
    "print(x_train.shape, x_test.shape)"
   ]
  },
  {
   "cell_type": "code",
   "execution_count": 5,
   "metadata": {},
   "outputs": [],
   "source": [
    "#function to calculate the sigmoid for each x\n",
    "def sigmoid(x):\n",
    "    if isinstance(x, np.ndarray):\n",
    "        sig_x = []\n",
    "        for i in range(len(x)):\n",
    "            sig_x[i] = 1.0 / (1.0 + np.exp(-x[i]))\n",
    "        return sig_x\n",
    "    else:\n",
    "        return 1.0 / (1.0 + np.exp(-x))"
   ]
  },
  {
   "cell_type": "code",
   "execution_count": 6,
   "metadata": {},
   "outputs": [],
   "source": [
    "def reg_neg_log_likelihood(x_train, y_train, weights, lam):\n",
    "    output = 0\n",
    "    for i in range(0, x_train.shape[0]):\n",
    "        output += -np.log(sigmoid(y_train[i] * np.dot(x_train[i], weights))) + (lam  * np.linalg.norm(x_train[i]))\n",
    "    return output"
   ]
  },
  {
   "cell_type": "code",
   "execution_count": 7,
   "metadata": {},
   "outputs": [],
   "source": [
    "def gradient(x_train, y_train, weights):\n",
    "    update = np.zeros(len(weights))\n",
    "    for i in range(0, x_train.shape[0]):\n",
    "        update = update + y_train[i] * (1 - sigmoid(y_train[i] * np.dot(x_train[i], weights))) * x_train[i]\n",
    "    return update"
   ]
  },
  {
   "cell_type": "code",
   "execution_count": 8,
   "metadata": {},
   "outputs": [],
   "source": [
    "def hessian(x_train, y_train, weights):\n",
    "    identity_matrix = np.identity(len(weights))\n",
    "    output_matrix = np.zeros((len(weights), len(weights)))\n",
    "    for i in range(0, x_train.shape[0]):\n",
    "        sig_value =  sigmoid(np.dot(x_train[i], weights))\n",
    "        output_matrix += sig_value * (1 - sig_value) * np.outer(x_train[i], x_train[i])\n",
    "    matrix = -output_matrix - identity_matrix\n",
    "    return np.linalg.inv(matrix)"
   ]
  },
  {
   "cell_type": "code",
   "execution_count": 9,
   "metadata": {},
   "outputs": [],
   "source": [
    "def newton(x_train, y_train, i, lam):    \n",
    "    objective_value = []\n",
    "    w = np.zeros(x_train.shape[1])\n",
    "    #print len(w)\n",
    "    for j in range(1, i+1):\n",
    "        print(\"Iteration \", j)\n",
    "        print(\"Objective Function Value \", reg_neg_log_likelihood(x_train, y_train, w, lam))\n",
    "        objective_value.append(reg_neg_log_likelihood(x_train, y_train, w, lam))\n",
    "        w = w - (np.dot(hessian(x_train, y_train, w), gradient(x_train, y_train, w)))\n",
    "    return objective_value, w"
   ]
  },
  {
   "cell_type": "code",
   "execution_count": 10,
   "metadata": {},
   "outputs": [
    {
     "name": "stdout",
     "output_type": "stream",
     "text": [
      "Iteration  1\n",
      "Objective Function Value  181776.1021122936\n",
      "Iteration  2\n",
      "Objective Function Value  180792.02557671544\n",
      "Iteration  3\n",
      "Objective Function Value  180590.46665884473\n",
      "Iteration  4\n",
      "Objective Function Value  180501.36696567188\n",
      "Iteration  5\n",
      "Objective Function Value  180457.71923714134\n",
      "Iteration  6\n",
      "Objective Function Value  180435.0005606026\n",
      "Iteration  7\n",
      "Objective Function Value  180422.60160374967\n",
      "Iteration  8\n",
      "Objective Function Value  180415.4432246233\n",
      "Iteration  9\n",
      "Objective Function Value  180410.89881675495\n",
      "Iteration  10\n",
      "Objective Function Value  180407.74415601074\n",
      "Iteration  11\n",
      "Objective Function Value  180405.4150672277\n",
      "Iteration  12\n",
      "Objective Function Value  180403.620884162\n",
      "Iteration  13\n",
      "Objective Function Value  180402.19493746504\n",
      "Iteration  14\n",
      "Objective Function Value  180401.03398498698\n",
      "Iteration  15\n",
      "Objective Function Value  180400.07034950372\n"
     ]
    },
    {
     "data": {
      "image/png": "[encoded data removed]",
      "text/plain": [
       "<Figure size 648x432 with 1 Axes>"
      ]
     },
     "metadata": {
      "needs_background": "light"
     },
     "output_type": "display_data"
    }
   ],
   "source": [
    "lam = 10\n",
    "i = 15\n",
    "answer, weights = newton(x_train, y_train, i, lam)\n",
    "\n",
    "plt.figure(figsize=(9, 6))\n",
    "plt.plot(answer)\n",
    "plt.xlabel(\"Iterations\")\n",
    "plt.ylabel(\"Objective Training Function\")\n",
    "plt.title(\"Objective Function L on training data as a function of t = 1, 2, ... , 25\")\n",
    "plt.show()"
   ]
  },
  {
   "cell_type": "code",
   "execution_count": 11,
   "metadata": {},
   "outputs": [],
   "source": [
    "def predict_test_data(x_test, weights):\n",
    "    predicted_test = []\n",
    "    sigmoid_difference = []\n",
    "    for i in range(0, len(x_test)):\n",
    "        output = sigmoid(np.dot(x_test[i], weights))\n",
    "        if output > 0.5:\n",
    "            predicted_test.append(1)\n",
    "            sigmoid_difference.append(1-output)\n",
    "        else:\n",
    "            predicted_test.append(-1)\n",
    "            sigmoid_difference.append(output)\n",
    "    return predicted_test, sigmoid_difference"
   ]
  },
  {
   "cell_type": "code",
   "execution_count": 12,
   "metadata": {},
   "outputs": [],
   "source": [
    "predictions, sigmoid_difference = predict_test_data(x_test, weights)"
   ]
  },
  {
   "cell_type": "code",
   "execution_count": 13,
   "metadata": {},
   "outputs": [],
   "source": [
    "def prediction_accuracy(predicted_labels, original_labels):\n",
    "    count = 0\n",
    "    for i in range(len(predicted_labels)):\n",
    "        if predicted_labels[i] == original_labels[i]:\n",
    "            count += 1\n",
    "    return float(count)/len(predicted_labels)"
   ]
  },
  {
   "cell_type": "code",
   "execution_count": 14,
   "metadata": {},
   "outputs": [
    {
     "name": "stdout",
     "output_type": "stream",
     "text": [
      "Prediction accuracy is 0.949\n"
     ]
    }
   ],
   "source": [
    "print(\"Prediction accuracy is {}\".format(prediction_accuracy(y_test, predictions)))"
   ]
  },
  {
   "cell_type": "markdown",
   "metadata": {},
   "source": [
    "The termination critera was picked due to the rate of decrease of the objective function value in each iteration. I noticed that it started to plateau around iteration 5, but I ran it for 15 iterations to get a very miniscue higher accuracy. Anything greater than 10 iterations will result in decreasingly diminishing returns for the amount of time invested."
   ]
  },
  {
   "cell_type": "markdown",
   "metadata": {},
   "source": [
    "### (b) "
   ]
  },
  {
   "cell_type": "markdown",
   "metadata": {},
   "source": [
    "To quantify the confidence, I took the sigmoids that was calcutated for each ouput in predict_test_data. If the output was greater than 0.5, then high confidence would be values close to 1. If the output was less than or equal to 0.5, then high confidence would be values close to 0. Therefore we look at the difference the sigmoid is away from it's classified value, 1 or zero. This infomation is stored in the \"sigmoids_difference\" array."
   ]
  },
  {
   "cell_type": "code",
   "execution_count": 15,
   "metadata": {},
   "outputs": [],
   "source": [
    "#find all incorrect predictions\n",
    "def incorrect_predictions(predicted_labels, original_labels, sigmoids):\n",
    "    num = 0\n",
    "    x_test_reg = x[train_size:, :]\n",
    "    bad_values = {}  #dictionary to hold all indicies as key and sigmoid as value\n",
    "    for i in range(len(predicted_labels)):\n",
    "        if predicted_labels[i] != original_labels[i]:\n",
    "            bad_values[i] = sigmoids[i]\n",
    "            \n",
    "    \n",
    "    #sort by sigmoid, higher the sigmoid, higher the confidence\n",
    "    sort_bad_values = sorted(bad_values.items(), key=lambda x: x[1], reverse=False)\n",
    "    \n",
    "    \n",
    "    \n",
    "    #\n",
    "    w = 10\n",
    "    h = 10\n",
    "    fig = plt.figure(figsize=(9, 13))\n",
    "    columns = 5\n",
    "    rows = 4\n",
    "\n",
    "    # prep (x,y) for extra plotting\n",
    "    xs = np.linspace(0, 2*np.pi, 60)  # from 0 to 2pi\n",
    "    ys = np.abs(np.sin(xs))           # absolute of sine\n",
    "\n",
    "    # ax enables access to manipulate each of subplots\n",
    "    ax = []\n",
    "\n",
    "    for i in range(columns*rows):\n",
    "        img = np.reshape(x_test_reg[sort_bad_values[i][0]], (int(np.sqrt(d)),int(np.sqrt(d))))\n",
    "        # create subplot and append to ax\n",
    "        ax.append( fig.add_subplot(rows, columns, i+1) )\n",
    "        \n",
    "        #if y_test says 1, its a 9, if its -1, then its a 4\n",
    "        if y_test[sort_bad_values[i][0]] == 1:\n",
    "            num = 9\n",
    "        else:\n",
    "            num = 4\n",
    "            \n",
    "        ax[-1].set_title(\"actual: \" + str(num))  # set title\n",
    "        plt.imshow(img)\n",
    "\n",
    "    # do extra plots on selected axes/subplots\n",
    "    # note: index starts with 0\n",
    "    ax[2].plot(xs, 3*ys)\n",
    "    ax[19].plot(ys**2, xs)\n",
    "\n",
    "    plt.show()  # finally, render the plot\n"
   ]
  },
  {
   "cell_type": "code",
   "execution_count": 16,
   "metadata": {},
   "outputs": [
    {
     "data": {
      "image/png": "[encoded data removed]",
      "text/plain": [
       "<Figure size 648x936 with 20 Axes>"
      ]
     },
     "metadata": {
      "needs_background": "light"
     },
     "output_type": "display_data"
    }
   ],
   "source": [
    "incorrect_predictions(predictions, y_test, sigmoid_difference)"
   ]
  }
 ],
 "metadata": {
  "kernelspec": {
   "display_name": "Python 3",
   "language": "python",
   "name": "python3"
  },
  "language_info": {
   "codemirror_mode": {
    "name": "ipython",
    "version": 3
   },
   "file_extension": ".py",
   "mimetype": "text/x-python",
   "name": "python",
   "nbconvert_exporter": "python",
   "pygments_lexer": "ipython3",
   "version": "3.8.5"
  }
 },
 "nbformat": 4,
 "nbformat_minor": 2
}
