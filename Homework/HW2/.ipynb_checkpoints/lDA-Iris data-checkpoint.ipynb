{
 "cells": [
  {
   "cell_type": "markdown",
   "metadata": {},
   "source": [
    "# LDA ---- Iris data"
   ]
  },
  {
   "cell_type": "code",
   "execution_count": 7,
   "metadata": {},
   "outputs": [],
   "source": [
    "import pandas as pd\n",
    "import numpy as np\n",
    "\n",
    "import matplotlib.pyplot as plt\n",
    "\n",
    "from sklearn import datasets\n",
    "from sklearn.model_selection import train_test_split\n",
    "from sklearn.discriminant_analysis import LinearDiscriminantAnalysis\n",
    "from sklearn.metrics import confusion_matrix, classification_report"
   ]
  },
  {
   "cell_type": "code",
   "execution_count": 11,
   "metadata": {},
   "outputs": [
    {
     "name": "stdout",
     "output_type": "stream",
     "text": [
      "[0.37777778 0.3        0.32222222]\n"
     ]
    }
   ],
   "source": [
    "iris = datasets.load_iris()\n",
    "\n",
    "X = iris.data\n",
    "y = iris.target\n",
    "target_names = iris.target_names\n",
    "\n",
    "X_train, X_test, y_train, y_test = train_test_split(X, y, test_size=0.4, random_state=0)\n",
    "\n",
    "lda = LinearDiscriminantAnalysis()\n",
    "model = lda.fit(X_train, y_train)\n",
    "\n",
    "print(model.priors_)\n",
    "\n",
    "#The LDA output indicates prior probabilities\n"
   ]
  },
  {
   "cell_type": "code",
   "execution_count": 12,
   "metadata": {},
   "outputs": [
    {
     "name": "stdout",
     "output_type": "stream",
     "text": [
      "[[4.99411765 3.38235294 1.45294118 0.23235294]\n",
      " [5.92962963 2.77037037 4.21111111 1.31851852]\n",
      " [6.74482759 3.06896552 5.70689655 2.08275862]]\n"
     ]
    }
   ],
   "source": [
    "print(model.means_)"
   ]
  },
  {
   "cell_type": "code",
   "execution_count": 14,
   "metadata": {},
   "outputs": [
    {
     "name": "stdout",
     "output_type": "stream",
     "text": [
      "(array([0, 1, 2]), array([16, 24, 20]))\n"
     ]
    }
   ],
   "source": [
    "pred=model.predict(X_test)\n",
    "print(np.unique(pred, return_counts=True))\n",
    "\n",
    "#The model assigned 16 observations to the \"0\" class, 24 observations to the \"2\" class, \n",
    "#and 20 observations to the \"3\" class"
   ]
  },
  {
   "cell_type": "code",
   "execution_count": 15,
   "metadata": {},
   "outputs": [
    {
     "name": "stdout",
     "output_type": "stream",
     "text": [
      "[[16  0  0]\n",
      " [ 0 22  2]\n",
      " [ 0  1 19]]\n",
      "              precision    recall  f1-score   support\n",
      "\n",
      "           0      1.000     1.000     1.000        16\n",
      "           1      0.917     0.957     0.936        23\n",
      "           2      0.950     0.905     0.927        21\n",
      "\n",
      "   micro avg      0.950     0.950     0.950        60\n",
      "   macro avg      0.956     0.954     0.954        60\n",
      "weighted avg      0.951     0.950     0.950        60\n",
      "\n"
     ]
    }
   ],
   "source": [
    "print(confusion_matrix(pred, y_test))\n",
    "print(classification_report(y_test, pred, digits=3))"
   ]
  },
  {
   "cell_type": "markdown",
   "metadata": {},
   "source": [
    "### Precision – What percent of your predictions were correct?\n",
    "### Precision = TP/(TP + FP)\n",
    "\n",
    "### Recall – What percent of the positive cases did you catch? \n",
    "### Recall = TP/(TP+FN)\n",
    "\n",
    "### F1 score – What percent of positive predictions were correct? \n",
    "### F1 Score = 2*(Recall * Precision) / (Recall + Precision)\n",
    "\n",
    "### Micro-average of precision = (TP1+TP2)/(TP1+TP2+FP1+FP2) \n",
    "### Micro-average of recall = (TP1+TP2)/(TP1+TP2+FN1+FN2)\n",
    "\n",
    "### Macro-average precision = (P1+P2)/2\n",
    "### Macro-average recall = (R1+R2)/2\n",
    "\n",
    "### Macro-average F-Score will be simply the harmonic mean \n"
   ]
  },
  {
   "cell_type": "code",
   "execution_count": null,
   "metadata": {},
   "outputs": [],
   "source": []
  },
  {
   "cell_type": "code",
   "execution_count": null,
   "metadata": {},
   "outputs": [],
   "source": []
  }
 ],
 "metadata": {
  "kernelspec": {
   "display_name": "Python 3",
   "language": "python",
   "name": "python3"
  },
  "language_info": {
   "codemirror_mode": {
    "name": "ipython",
    "version": 3
   },
   "file_extension": ".py",
   "mimetype": "text/x-python",
   "name": "python",
   "nbconvert_exporter": "python",
   "pygments_lexer": "ipython3",
   "version": "3.7.9"
  }
 },
 "nbformat": 4,
 "nbformat_minor": 2
}
