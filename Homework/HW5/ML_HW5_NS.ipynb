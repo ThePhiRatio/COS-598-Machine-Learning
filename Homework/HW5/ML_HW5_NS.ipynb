{
 "cells": [
  {
   "cell_type": "markdown",
   "metadata": {},
   "source": [
    "# Question 1"
   ]
  },
  {
   "cell_type": "markdown",
   "metadata": {},
   "source": [
    "By: Nicholas Soucy"
   ]
  },
  {
   "cell_type": "markdown",
   "metadata": {},
   "source": [
    "## 1) Neural Network"
   ]
  },
  {
   "cell_type": "markdown",
   "metadata": {},
   "source": [
    "Let's try to fit the data using neural network. Use the first 150 examples for training, and the remainder for estimating the mean squared error. Assume that all activation functions are rectified linear unit (ReLU)."
   ]
  },
  {
   "cell_type": "markdown",
   "metadata": {},
   "source": [
    "Additional Comments:\n",
    "    1) Initalize weights of all layers using normal distribution (please add rng(0) or np.random.seed(0))\n",
    "    2) Initalize biases with zeros \n",
    "    3) Size of the first layer is 64 and the second layer is 16\n",
    "    4) Try to vectorize the code to reduce running time\n",
    "    5) Use gradient descent for training and use reasonable stopping criteria to terminate the gradient updates\n",
    "    6) Use the learning rate 1e -7 for gradient descent"
   ]
  },
  {
   "cell_type": "code",
   "execution_count": 13,
   "metadata": {},
   "outputs": [],
   "source": [
    "#imports\n",
    "import numpy as np\n",
    "import scipy.io as sio\n",
    "import matplotlib.pyplot as plt\n",
    "from scipy.special import expit\n",
    "from sklearn.preprocessing import StandardScaler"
   ]
  },
  {
   "cell_type": "code",
   "execution_count": 14,
   "metadata": {},
   "outputs": [
    {
     "name": "stdout",
     "output_type": "stream",
     "text": [
      "Orignal Data Sizes\n",
      "(248, 2) (248, 1)\n",
      "Train and Test shapes\n",
      "(150, 2) (98, 2) (150, 1) (98, 1)\n"
     ]
    }
   ],
   "source": [
    "#Load the data\n",
    "bodyfat = sio.loadmat('bodyfat_data.mat')\n",
    "X = bodyfat['X']\n",
    "Y = bodyfat['y']\n",
    "n,d = X.shape\n",
    "\n",
    "\n",
    "print(\"Orignal Data Sizes\")\n",
    "print(X.shape, Y.shape)\n",
    "\n",
    "#split into train and test data \n",
    "train_size = 150\n",
    "x_train = X[:train_size, :]\n",
    "x_test = X[train_size:, :]\n",
    "y_train = Y[:train_size]\n",
    "y_test = Y[train_size:]\n",
    "\n",
    "print(\"Train and Test shapes\")\n",
    "print(x_train.shape, x_test.shape, y_train.shape, y_test.shape)"
   ]
  },
  {
   "cell_type": "markdown",
   "metadata": {},
   "source": [
    "### a) Implement the forward pass and the backward pass."
   ]
  },
  {
   "cell_type": "code",
   "execution_count": 15,
   "metadata": {},
   "outputs": [],
   "source": [
    "#Lets create a class for ease\n",
    "\n",
    "class NN():\n",
    "    \n",
    "    def __init__(self, layers=[2,64,16,1], learning_rate=1e-7, iterations = 100):\n",
    "        self.params = {}\n",
    "        self.learning_rate = learning_rate\n",
    "        self.iterations = iterations\n",
    "        self.loss = []\n",
    "        self.sample_size = None\n",
    "        self.layers = layers \n",
    "        self.X = None\n",
    "        self.Y = None\n",
    "    \n",
    "    def init_weights(self):\n",
    "        '''\n",
    "        Initialize the weights from a random normal distribution with \n",
    "        random seed being 0.\n",
    "        '''\n",
    "        np.random.seed(1) # Seed the random number generator\n",
    "        self.params[\"W1\"] = np.random.randn(self.layers[0], self.layers[1]) \n",
    "        self.params['b1']  =np.random.randn(self.layers[1],)\n",
    "        self.params['W2'] = np.random.randn(self.layers[1],self.layers[2]) \n",
    "        self.params['b2'] = np.random.randn(self.layers[2],)\n",
    "        self.params['W3'] = np.random.randn(self.layers[2],self.layers[3]) \n",
    "        self.params['b3'] = np.random.randn(self.layers[3],)      \n",
    "        \n",
    "    def relu(self,x):\n",
    "        return np.maximum(0,x)\n",
    "    \n",
    "    def dRelu(self, x):\n",
    "        x[x<=0] = 0\n",
    "        x[x>0] = 1\n",
    "        return x\n",
    "\n",
    "    def MSE_loss(self,y, y_hat):\n",
    "        loss = np.mean((y_hat - y)**2)\n",
    "        return loss\n",
    "    \n",
    "    def forward_pass(self):\n",
    "        z1=np.dot(self.X,self.params['W1'])+self.params['b1']\n",
    "        a1=self.relu(z1)\n",
    "        z2=np.dot(a1,self.params['W2']) + self.params['b2']\n",
    "        a2 = self.relu(z2)\n",
    "        y_hat = np.dot(a2,self.params['W3'])+ self.params['b3']\n",
    "        loss = self.MSE_loss(self.Y, y_hat)\n",
    "        \n",
    "        # save calculated parameters     \n",
    "        self.params['Z1'] = z1\n",
    "        self.params['Z2'] = z2\n",
    "        self.params['A1'] = a1\n",
    "        self.params['A2'] = a2\n",
    "\n",
    "        return y_hat,loss\n",
    "\n",
    "    def backward_pass(self,y_hat):\n",
    "\n",
    "        #backpropogation code\n",
    "        l3_error = (y_hat-self.Y)/float(self.Y.shape[0])\n",
    "        l2_error = l3_error.dot(self.params['W3'].T)\n",
    "        l2_delta = l2_error*self.dRelu(self.params['Z2'])\n",
    "        l1_error = l2_delta.dot(self.params['W2'].T)\n",
    "        l1_delta = l1_error*self.dRelu(self.params['Z1'])\n",
    "\n",
    "        #update parameters\n",
    "        self.params['W3'] -= self.learning_rate *self.params['A2'].T.dot(l3_error)\n",
    "        self.params['W2'] -= self.learning_rate*self.params['A1'].T.dot(l2_delta)\n",
    "        self.params['W1'] -= self.learning_rate*self.X.T.dot(l1_delta)\n",
    "        self.params['b3'] -= self.learning_rate*np.sum(l3_error)\n",
    "        self.params['b2'] -= self.learning_rate*np.sum(l2_delta,axis =0)\n",
    "        self.params['b1'] -= self.learning_rate*np.sum(l1_delta,axis =0)\n",
    "\n",
    "    \n",
    "    def fit(self, X, Y):\n",
    "        '''\n",
    "        Trains the neural network using the specified data and labels\n",
    "        '''\n",
    "        self.X = X\n",
    "        self.Y = Y\n",
    "        self.init_weights() #initialize weights and bias\n",
    "\n",
    "        for i in range(self.iterations):\n",
    "            y_hat, loss = self.forward_pass()\n",
    "            self.backward_pass(y_hat)\n",
    "            self.loss.append(loss)\n",
    "\n",
    "            \n",
    "    def predict(self, X):\n",
    "        '''\n",
    "        Predicts on a test data by passing forward pass on the \n",
    "        x_test data with saved parameters\n",
    "        ''' \n",
    "        z1=np.dot(self.X,self.params['W1'])+self.params['b1']\n",
    "        a1=self.relu(z1)\n",
    "        z2=np.dot(a1,self.params['W2']) + self.params['b2']\n",
    "        a2 = self.relu(z2)\n",
    "        y_hat = np.dot(a2,self.params['W3'])+ self.params['b3']\n",
    "        loss = self.MSE_loss(self.Y, y_hat)\n",
    "        return(loss)\n",
    "\n",
    "    \n",
    "    def plot_loss(self):\n",
    "        plt.plot(self.loss)\n",
    "        plt.xlabel(\"Iteration\")\n",
    "        plt.ylabel(\"MSE Loss\")\n",
    "        plt.title(\"Loss curve for training\")\n",
    "        plt.show()  \n",
    "        print(f\"Mean Squared Error on Training Data: {self.loss[-1]}\")"
   ]
  },
  {
   "cell_type": "markdown",
   "metadata": {},
   "source": [
    "### b) Report the mean squared error on the training data"
   ]
  },
  {
   "cell_type": "code",
   "execution_count": 16,
   "metadata": {},
   "outputs": [
    {
     "data": {
      "image/png": "[encoded data removed]",
      "text/plain": [
       "<Figure size 432x288 with 1 Axes>"
      ]
     },
     "metadata": {
      "needs_background": "light"
     },
     "output_type": "display_data"
    },
    {
     "name": "stdout",
     "output_type": "stream",
     "text": [
      "Mean Squared Error on Training Data: 25.693966864314266\n"
     ]
    }
   ],
   "source": [
    "nn = NN(iterations=1000) # create the NN model\n",
    "nn.fit(x_train, y_train) #train the model\n",
    "nn.plot_loss()"
   ]
  },
  {
   "cell_type": "markdown",
   "metadata": {},
   "source": [
    "### b2) Explain Stopping Criteia"
   ]
  },
  {
   "cell_type": "markdown",
   "metadata": {},
   "source": [
    "For the stopping criteria, because it ran pretty quickly, I just ran it at insane values first and saw what MSE I got. \n",
    "\n",
    "At 200000 (Yep!) I got an MSE of 20.38543522081721\n",
    "\n",
    "At 20000 I got an MSE of 20.419648337595437\n",
    "\n",
    "At 10000 I got an MSE of 20.64030734924752\n",
    "\n",
    "At 5000 I got an MSE of 27.2040211323742\n",
    "\n",
    "At 4000 I got an MSE of 42.03897030999849\n",
    "\n",
    "At 2000 I got an MSE of 261.50634639175075\n",
    "\n",
    "\n",
    "So lets plot this now:"
   ]
  },
  {
   "cell_type": "code",
   "execution_count": 17,
   "metadata": {},
   "outputs": [
    {
     "data": {
      "image/png": "[encoded data removed]",
      "text/plain": [
       "<Figure size 432x288 with 1 Axes>"
      ]
     },
     "metadata": {
      "needs_background": "light"
     },
     "output_type": "display_data"
    }
   ],
   "source": [
    "x = [2000,4000,5000,10000,20000]\n",
    "y = [261.50634639175075,42.03897030999849,27.2040211323742,20.64030734924752,20.419648337595437]\n",
    "plt.plot(x,y)\n",
    "plt.xlabel(\"Number of Iterations\")\n",
    "plt.ylabel(\"MSE Loss\")\n",
    "plt.title(\"Stopping Criteria Curve\")\n",
    "plt.show()  "
   ]
  },
  {
   "cell_type": "markdown",
   "metadata": {},
   "source": [
    "As you can see, that sweet spot is around 5000 iterations, just to be safe, I set the iterations to be 6000 based on our emperical data above."
   ]
  },
  {
   "cell_type": "markdown",
   "metadata": {},
   "source": [
    "### c) Report the mean squared error on the test inputs"
   ]
  },
  {
   "cell_type": "code",
   "execution_count": 18,
   "metadata": {},
   "outputs": [
    {
     "name": "stdout",
     "output_type": "stream",
     "text": [
      "Mean Squared Error on Testing Data: 25.69279648212747\n"
     ]
    }
   ],
   "source": [
    "test_pred = nn.predict(x_test)\n",
    "print(f\"Mean Squared Error on Testing Data: {test_pred}\")"
   ]
  }
 ],
 "metadata": {
  "kernelspec": {
   "display_name": "Python 3",
   "language": "python",
   "name": "python3"
  },
  "language_info": {
   "codemirror_mode": {
    "name": "ipython",
    "version": 3
   },
   "file_extension": ".py",
   "mimetype": "text/x-python",
   "name": "python",
   "nbconvert_exporter": "python",
   "pygments_lexer": "ipython3",
   "version": "3.8.5"
  }
 },
 "nbformat": 4,
 "nbformat_minor": 4
}
